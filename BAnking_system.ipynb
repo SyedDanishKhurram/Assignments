{
  "nbformat": 4,
  "nbformat_minor": 0,
  "metadata": {
    "colab": {
      "provenance": [],
      "authorship_tag": "ABX9TyOcWiQG9OWUesVVBp7YH0jy",
      "include_colab_link": true
    },
    "kernelspec": {
      "name": "python3",
      "display_name": "Python 3"
    },
    "language_info": {
      "name": "python"
    }
  },
  "cells": [
    {
      "cell_type": "markdown",
      "metadata": {
        "id": "view-in-github",
        "colab_type": "text"
      },
      "source": [
        "<a href=\"https://colab.research.google.com/github/SyedDanishKhurram/Assignments/blob/main/BAnking_system.ipynb\" target=\"_parent\"><img src=\"https://colab.research.google.com/assets/colab-badge.svg\" alt=\"Open In Colab\"/></a>"
      ]
    },
    {
      "cell_type": "code",
      "execution_count": 2,
      "metadata": {
        "colab": {
          "base_uri": "https://localhost:8080/"
        },
        "id": "pZhHtMTIpE6Y",
        "outputId": "af0520f2-b0b8-412e-ffb5-b7754a451e14"
      },
      "outputs": [
        {
          "output_type": "stream",
          "name": "stdout",
          "text": [
            "Welcome to the Banking System\n",
            "Enter the account holder's name: danish\n",
            "Enter initial deposit amount: 1234555\n",
            "\n",
            "Options:\n",
            "1. Deposit\n",
            "2. Withdraw\n",
            "3. Check Balance\n",
            "4. Exit\n",
            "Choose an option (1-4): 2\n",
            "Enter amount to withdraw: 1000\n",
            "Successfully withdrew 1000.0. Current balance: 1233555.0\n",
            "\n",
            "Options:\n",
            "1. Deposit\n",
            "2. Withdraw\n",
            "3. Check Balance\n",
            "4. Exit\n",
            "Choose an option (1-4): 4\n",
            "Thank you for using the Banking System. Goodbye!\n"
          ]
        }
      ],
      "source": [
        "class BankAccount:\n",
        "    def __init__(self, account_holder, balance=0):\n",
        "        self.account_holder = account_holder\n",
        "        self.balance = balance\n",
        "\n",
        "    def deposit(self, amount):\n",
        "        if amount > 0:\n",
        "            self.balance += amount\n",
        "            print(f\"Successfully deposited {amount}. Current balance: {self.balance}\")\n",
        "        else:\n",
        "            print(\"Deposit amount must be positive.\")\n",
        "\n",
        "    def withdraw(self, amount):\n",
        "        if 0 < amount <= self.balance:\n",
        "            self.balance -= amount\n",
        "            print(f\"Successfully withdrew {amount}. Current balance: {self.balance}\")\n",
        "        elif amount > self.balance:\n",
        "            print(\"Insufficient funds.\")\n",
        "        else:\n",
        "            print(\"Withdrawal amount must be positive.\")\n",
        "\n",
        "    def check_balance(self):\n",
        "        print(f\"Account holder: {self.account_holder}, Current balance: {self.balance}\")\n",
        "\n",
        "if __name__ == \"__main__\":\n",
        "    print(\"Welcome to the Banking System\")\n",
        "\n",
        "    name = input(\"Enter the account holder's name: \")\n",
        "    initial_deposit = float(input(\"Enter initial deposit amount: \"))\n",
        "    account = BankAccount(name, initial_deposit)\n",
        "\n",
        "    while True:\n",
        "        print(\"\\nOptions:\")\n",
        "        print(\"1. Deposit\")\n",
        "        print(\"2. Withdraw\")\n",
        "        print(\"3. Check Balance\")\n",
        "        print(\"4. Exit\")\n",
        "\n",
        "        choice = input(\"Choose an option (1-4): \")\n",
        "\n",
        "        if choice == \"1\":\n",
        "            amount = float(input(\"Enter amount to deposit: \"))\n",
        "            account.deposit(amount)\n",
        "        elif choice == \"2\":\n",
        "            amount = float(input(\"Enter amount to withdraw: \"))\n",
        "            account.withdraw(amount)\n",
        "        elif choice == \"3\":\n",
        "            account.check_balance()\n",
        "        elif choice == \"4\":\n",
        "            print(\"Thank you for using the Banking System. Goodbye!\")\n",
        "            break\n",
        "        else:\n",
        "            print(\"Invalid choice. Please try again.\")"
      ]
    },
    {
      "cell_type": "code",
      "source": [],
      "metadata": {
        "id": "A5laq8N2pM9s"
      },
      "execution_count": null,
      "outputs": []
    }
  ]
}