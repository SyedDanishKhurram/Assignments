{
 "cells": [
  {
   "cell_type": "markdown",
   "id": "561281f1",
   "metadata": {},
   "source": [
    "1.Simple Message: Assign a message to a variable, and then print that message.\n",
    "    \n",
    "\n",
    "\n"
   ]
  },
  {
   "cell_type": "code",
   "execution_count": 1,
   "id": "4f10a5ba",
   "metadata": {
    "scrolled": true
   },
   "outputs": [
    {
     "name": "stdout",
     "output_type": "stream",
     "text": [
      "my name is Danish\n"
     ]
    }
   ],
   "source": [
    "name = \"my name is Danish\"\n",
    "print(name)"
   ]
  },
  {
   "cell_type": "markdown",
   "id": "6789698b",
   "metadata": {},
   "source": [
    "2.Find a quote from a famous person you admire. Print the quote and the name of its author. Your output should look something like the following, including the quotation marks:\n",
    "\n",
    "Albert Einstein once said, “A person who never made a mistake never tried anything new.”"
   ]
  },
  {
   "cell_type": "code",
   "execution_count": 6,
   "id": "191e2fd2",
   "metadata": {},
   "outputs": [
    {
     "name": "stdout",
     "output_type": "stream",
     "text": [
      "Albert Einstein once said, “A person who never made a mistake never tried anything new.”\n"
     ]
    }
   ],
   "source": [
    "print('Albert Einstein once said, “A person who never made a mistake never tried anything new.”')"
   ]
  },
  {
   "cell_type": "markdown",
   "id": "3cba3691",
   "metadata": {},
   "source": [
    "Calculate Area of a Circle::\n",
    "Write a Python program which accepts the radius of a circle from the user and compute the area.\n",
    "\n",
    "Program Console Sample Output 1:\n",
    "\n",
    "Input Radius: 0.5\n",
    "\n",
    "Area of Circle with radius 0.5 is 0.7853981634"
   ]
  },
  {
   "cell_type": "code",
   "execution_count": 8,
   "id": "82d00e10",
   "metadata": {},
   "outputs": [
    {
     "name": "stdout",
     "output_type": "stream",
     "text": [
      "Enter Radius0.5\n",
      "Area =  0.7855\n"
     ]
    }
   ],
   "source": [
    "r = float(input(\"Enter Radius\"))\n",
    "area= r * r *3.142\n",
    "print (\"Area = \",area)\n"
   ]
  },
  {
   "cell_type": "markdown",
   "id": "3ed569f1",
   "metadata": {},
   "source": [
    "Write a Python program to check if a number is positive,\n",
    "\n",
    "negative or zero\n",
    "\n",
    "Program Console Sample Output 1:\n",
    "\n",
    "Enter Number: -1\n",
    "\n",
    "Negative Number Entered\n",
    "\n",
    "Program Console Sample Output 2:\n",
    "\n",
    "Integer: 3\n",
    "\n",
    "Positive Number Entered\n",
    "\n",
    "Program Console Sample Output 3:\n",
    "\n",
    "Integer: 0\n",
    "\n",
    "Zero Entered"
   ]
  },
  {
   "cell_type": "code",
   "execution_count": 12,
   "id": "d8715443",
   "metadata": {},
   "outputs": [
    {
     "name": "stdout",
     "output_type": "stream",
     "text": [
      "Enter Your Number: 4\n",
      "This Number is positive\n"
     ]
    }
   ],
   "source": [
    "a = int(input(\"Enter Your Number: \"))\n",
    "if a > 0: \n",
    "    print(\"This Number is positive\")\n",
    "elif a == 0: \n",
    "    print(\"This Number is Zero\")\n",
    "else: \n",
    "    print(\"This number is negative\")"
   ]
  },
  {
   "cell_type": "markdown",
   "id": "46c3efc5",
   "metadata": {},
   "source": [
    "Vowel Tester Write a Python program to test whether a passed letter is a vowel or not\n",
    "Program Console Output 1:\n",
    "\n",
    "Enter a character: A\n",
    "\n",
    "Letter A is Vowel\n",
    "\n",
    "Program Console Output 2:\n",
    "\n",
    "Enter a character: e\n",
    "\n",
    "Letter e is Vowel\n",
    "\n",
    "Program Console Output 2:\n",
    "\n",
    "Enter a character: N\n",
    "\n",
    "Letter N is not Vowel."
   ]
  },
  {
   "cell_type": "code",
   "execution_count": 16,
   "id": "d47f0576",
   "metadata": {},
   "outputs": [
    {
     "name": "stdout",
     "output_type": "stream",
     "text": [
      "Enter a letter = e\n",
      "This letter is a vowel\n"
     ]
    }
   ],
   "source": [
    "vowel = ['a','e','i','o','u']\n",
    "z = input('Enter a letter = ')\n",
    "if z in vowel:\n",
    "    print('This letter is a vowel')\n",
    "else:\n",
    "    print('This letter is not a vowel')\n"
   ]
  },
  {
   "cell_type": "markdown",
   "id": "c7473714",
   "metadata": {},
   "source": [
    "BMI Calculator\n",
    "Write a Python program to calculate body mass index Program Console Sample 1:\n",
    "\n",
    "Enter Height in Cm: 180\n",
    "\n",
    "Enter Weight in Kg: 75\n",
    "\n",
    "Your BMI is 23.15"
   ]
  },
  {
   "cell_type": "code",
   "execution_count": 20,
   "id": "ba3ee2e6",
   "metadata": {},
   "outputs": [
    {
     "name": "stdout",
     "output_type": "stream",
     "text": [
      "Enter your Height: 180\n",
      "Enter Weight: 75\n",
      "Your BMI Is  23.148148148148145\n"
     ]
    }
   ],
   "source": [
    "a = int(input('Enter your Height: '))\n",
    "b = int(input('Enter Weight: '))\n",
    "a = a*0.01\n",
    "BMI =  b/(a*a)\n",
    "print ('Your BMI Is ',BMI)\n"
   ]
  },
  {
   "cell_type": "markdown",
   "id": "69737569",
   "metadata": {},
   "source": [
    "Store the names of a few of your friends in a list called names\n",
    "\n",
    "Print each person’s name by accessing each element in the list, one at a time.\n",
    "\n"
   ]
  },
  {
   "cell_type": "code",
   "execution_count": 21,
   "id": "bc2530eb",
   "metadata": {},
   "outputs": [
    {
     "name": "stdout",
     "output_type": "stream",
     "text": [
      "John\n"
     ]
    }
   ],
   "source": [
    "names = [\"John\", \"Josue\", \"Freddy\"]\n",
    "\n",
    "print(names[0])\n",
    "\n"
   ]
  },
  {
   "cell_type": "code",
   "execution_count": 22,
   "id": "a032c80e",
   "metadata": {},
   "outputs": [
    {
     "name": "stdout",
     "output_type": "stream",
     "text": [
      "Hello, my good friend John\n",
      "Hello, my good friend Josue\n",
      "Hello, my good friend Freddy\n"
     ]
    }
   ],
   "source": [
    "names = [\"John\", \"Josue\", \"Freddy\"]\n",
    "\n",
    "print(\"Hello, my good friend {}\".format(names[0]))\n",
    "print(\"Hello, my good friend {}\".format(names[1]))\n",
    "print(\"Hello, my good friend {}\".format(names[2]))"
   ]
  },
  {
   "cell_type": "markdown",
   "id": "f225c260",
   "metadata": {},
   "source": [
    "Make a python program that conatains your nine favourite dishes in a list called foods. Print the message, The first three items in the list are:\n",
    "\n",
    "Then use a slice to print the first three items from that program’s list.\n",
    "\n",
    "Print the message, Three items from the middle of the list are:\n",
    "\n",
    "Use a slice to print three items from the middle of the list.\n",
    "\n",
    "Print the message, The last three items in the list are:\n",
    "\n",
    "Use a slice to print the last three items in the list."
   ]
  },
  {
   "cell_type": "code",
   "execution_count": 4,
   "id": "8af54702",
   "metadata": {},
   "outputs": [
    {
     "name": "stdout",
     "output_type": "stream",
     "text": [
      "The first three items : ['biryani', 'chicken Kabaab', 'chicken tikka']\n",
      "The first three items : ['tarkaari', 'Pizza', 'burger']\n",
      "The first three items : ['Karahi', 'nehari', 'shrimps']\n"
     ]
    }
   ],
   "source": [
    "foods=[\"biryani\",\"chicken Kabaab\",\"chicken tikka\",\"tarkaari\",\"Pizza\",\"burger\",\"Karahi\",\"nehari\",\"shrimps\"]\n",
    "print(\"The first three items :\",foods[:3] )\n",
    "print(\"The first three items :\",foods[3:6] )\n",
    "print(\"The first three items :\",foods[-3:] )"
   ]
  },
  {
   "cell_type": "markdown",
   "id": "176cd176",
   "metadata": {},
   "source": [
    "Start with your program from your last Question8. Make a copy of the list of foods, and call it friend_foods. Then, do the following:\n",
    "Add a new dish to the original list.\n",
    "\n",
    "Add a different dish to the list friend_foods.\n",
    "\n",
    "Prove that you have two separate lists.\n",
    "\n",
    "Print the message, My favorite pizzas are: and then use a for loop to print the first list.\n",
    "\n",
    "Print the message,\n",
    "\n",
    "My friend’s favorite foods are:, and then use a for loop to print the second list.\n",
    "\n",
    "NOTE: Make sure each new dish is stored in the appropriate list.\n"
   ]
  },
  {
   "cell_type": "code",
   "execution_count": 2,
   "id": "174a3a45",
   "metadata": {},
   "outputs": [
    {
     "name": "stdout",
     "output_type": "stream",
     "text": [
      "My favorite foods are : biryani\n",
      "My favorite foods are : chicken Kabaab\n",
      "My favorite foods are : chicken tikka\n",
      "My favorite foods are : tarkaari\n",
      "My favorite foods are : Pizza\n",
      "My favorite foods are : burger\n",
      "My favorite foods are : Karahi\n",
      "My favorite foods are : nehari\n",
      "My favorite foods are : shrimps\n",
      "My favorite foods are : nali nihaari\n",
      "\n",
      "My friend’s favorite foods are : biryani\n",
      "My friend’s favorite foods are : aloo gosht\n",
      "My friend’s favorite foods are : polao\n",
      "My friend’s favorite foods are : bbq\n",
      "My friend’s favorite foods are : aloo roll\n",
      "My friend’s favorite foods are : burger\n",
      "My friend’s favorite foods are : malai boti\n",
      "My friend’s favorite foods are : white tikka\n",
      "My friend’s favorite foods are : reshmi kabab\n"
     ]
    }
   ],
   "source": [
    "foods=[\"biryani\",\"chicken Kabaab\",\"chicken tikka\",\"tarkaari\",\"Pizza\",\"burger\",\"Karahi\",\"nehari\",\"shrimps\"]\n",
    "friend_foods=[\"biryani\",\"aloo gosht\",\"polao\",\"bbq\",\"aloo roll\",\"burger\",\"malai boti\",\"white tikka\",\"reshmi kabab\"]\n",
    "foods.append('nali nihaari')\n",
    "for food in foods:\n",
    "    print(\"My favorite foods are :\",food)\n",
    "print()\n",
    "for friend_food in  friend_foods:\n",
    "    print(\"My friend’s favorite foods are :\",friend_food)"
   ]
  },
  {
   "cell_type": "markdown",
   "id": "7d6510a6",
   "metadata": {},
   "source": []
  }
 ],
 "metadata": {
  "kernelspec": {
   "display_name": "Python 3 (ipykernel)",
   "language": "python",
   "name": "python3"
  },
  "language_info": {
   "codemirror_mode": {
    "name": "ipython",
    "version": 3
   },
   "file_extension": ".py",
   "mimetype": "text/x-python",
   "name": "python",
   "nbconvert_exporter": "python",
   "pygments_lexer": "ipython3",
   "version": "3.9.7"
  }
 },
 "nbformat": 4,
 "nbformat_minor": 5
}
